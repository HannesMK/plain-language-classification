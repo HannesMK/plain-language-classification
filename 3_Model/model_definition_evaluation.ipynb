{
 "cells": [
  {
   "cell_type": "markdown",
   "metadata": {},
   "source": [
    "# Model Definition and Evaluation\n",
    "## Table of Contents\n",
    "1. [Model Selection](#model-selection)\n",
    "2. [Feature Engineering](#feature-engineering)\n",
    "3. [Hyperparameter Tuning](#hyperparameter-tuning)\n",
    "4. [Implementation](#implementation)\n",
    "5. [Evaluation Metrics](#evaluation-metrics)\n",
    "6. [Comparative Analysis](#comparative-analysis)\n"
   ]
  },
  {
   "cell_type": "code",
   "execution_count": 1,
   "metadata": {},
   "outputs": [
    {
     "name": "stdout",
     "output_type": "stream",
     "text": [
      "WARNING:tensorflow:From g:\\Backup\\Documents\\OpenCampus\\Machine Learning With TensorFlow\\Project\\plain-language-classification-main\\.venv\\Lib\\site-packages\\tf_keras\\src\\losses.py:2976: The name tf.losses.sparse_softmax_cross_entropy is deprecated. Please use tf.compat.v1.losses.sparse_softmax_cross_entropy instead.\n",
      "\n"
     ]
    },
    {
     "name": "stderr",
     "output_type": "stream",
     "text": [
      "g:\\Backup\\Documents\\OpenCampus\\Machine Learning With TensorFlow\\Project\\plain-language-classification-main\\.venv\\Lib\\site-packages\\tqdm\\auto.py:21: TqdmWarning: IProgress not found. Please update jupyter and ipywidgets. See https://ipywidgets.readthedocs.io/en/stable/user_install.html\n",
      "  from .autonotebook import tqdm as notebook_tqdm\n"
     ]
    }
   ],
   "source": [
    "import sys\n",
    "\n",
    "import tensorflow as tf\n",
    "import tf_keras\n",
    "\n",
    "# Add the parent directory to the path so that the custom utilities module is found\n",
    "sys.path.insert(0, \"..\")\n",
    "\n",
    "import utilities"
   ]
  },
  {
   "cell_type": "markdown",
   "metadata": {},
   "source": [
    "## Model Selection\n",
    "\n",
    "The first step was to try an LSTM model to see if the preserving of sequence improves model performance. The LSTM model performed similar to the baseline model. Next, I tried using pre-trained embeddings to see if leveraging models trained on larger datasets aids performance. However, model performance did not increase, but even declined when using pre-trained embeddings from a Neural-Net Language Model. Lastly, a more advanced Transformer-based model was fine tuned to the project task, which finally yielded a substantial improvement over baseline performance."
   ]
  },
  {
   "cell_type": "markdown",
   "metadata": {},
   "source": [
    "## Feature Engineering\n",
    "\n",
    "No additional feature engineering was done compared to the data preparation already implemented for the baseline model. However, for the Transformer-based model, stop words were left in, and larger sequence lengths were used."
   ]
  },
  {
   "cell_type": "code",
   "execution_count": 2,
   "metadata": {},
   "outputs": [
    {
     "name": "stdout",
     "output_type": "stream",
     "text": [
      "Training set size: 41943\n",
      "Validation set size: 5992\n",
      "Test set size: 11984\n"
     ]
    }
   ],
   "source": [
    "has_duplicate_removal = True\n",
    "has_stop_word_removal = True\n",
    "validation_size = 0.1\n",
    "test_size = 0.2\n",
    "\n",
    "x_training, x_validation, x_test, y_training, y_validation, y_test = (\n",
    "    utilities.prepare_and_split_data(\n",
    "        has_duplicate_removal=has_duplicate_removal,\n",
    "        has_stop_word_removal=has_stop_word_removal,\n",
    "        validation_size=validation_size,\n",
    "        test_size=test_size,\n",
    "    )\n",
    ")\n",
    "\n",
    "print(f\"Training set size: {len(x_training)}\")\n",
    "print(f\"Validation set size: {len(x_validation)}\")\n",
    "print(f\"Test set size: {len(x_test)}\")"
   ]
  },
  {
   "cell_type": "markdown",
   "metadata": {},
   "source": [
    "## Hyperparameter Tuning\n",
    "\n",
    "Hyperparameters were tuned manually by trying different parameters such as layer size and learning rates and seeing what works best. In general, model performance was similar for varying parameter values. Naturally, automated hyperparameter tuning would be preferable over manual tuning, as this could systematically cover a wider range of possible values and objectively find an optimal solution. Such an automated approach using Grid Search or Random Search may be implemented in future versions."
   ]
  },
  {
   "cell_type": "markdown",
   "metadata": {},
   "source": [
    "## Implementation\n",
    "\n",
    "As stated above, three different models were implemented and compared to the baseline model."
   ]
  },
  {
   "cell_type": "markdown",
   "metadata": {},
   "source": [
    "### Long Short-Term Memory Model\n",
    "\n",
    "The first model is a bidirectional LSTM-model, which preservence information about the sequence of the words/tokens. As with the baseline model, embeddings are trained from scratch."
   ]
  },
  {
   "cell_type": "code",
   "execution_count": 3,
   "metadata": {},
   "outputs": [
    {
     "data": {
      "text/html": [
       "<pre style=\"white-space:pre;overflow-x:auto;line-height:normal;font-family:Menlo,'DejaVu Sans Mono',consolas,'Courier New',monospace\"><span style=\"font-weight: bold\">Model: \"lstm_model\"</span>\n",
       "</pre>\n"
      ],
      "text/plain": [
       "\u001b[1mModel: \"lstm_model\"\u001b[0m\n"
      ]
     },
     "metadata": {},
     "output_type": "display_data"
    },
    {
     "data": {
      "text/html": [
       "<pre style=\"white-space:pre;overflow-x:auto;line-height:normal;font-family:Menlo,'DejaVu Sans Mono',consolas,'Courier New',monospace\">┏━━━━━━━━━━━━━━━━━━━━━━━━━━━━━━━━━┳━━━━━━━━━━━━━━━━━━━━━━━━┳━━━━━━━━━━━━━━━┓\n",
       "┃<span style=\"font-weight: bold\"> Layer (type)                    </span>┃<span style=\"font-weight: bold\"> Output Shape           </span>┃<span style=\"font-weight: bold\">       Param # </span>┃\n",
       "┡━━━━━━━━━━━━━━━━━━━━━━━━━━━━━━━━━╇━━━━━━━━━━━━━━━━━━━━━━━━╇━━━━━━━━━━━━━━━┩\n",
       "│ text_vectorization              │ (<span style=\"color: #00d7ff; text-decoration-color: #00d7ff\">None</span>, <span style=\"color: #00af00; text-decoration-color: #00af00\">12</span>)             │             <span style=\"color: #00af00; text-decoration-color: #00af00\">0</span> │\n",
       "│ (<span style=\"color: #0087ff; text-decoration-color: #0087ff\">TextVectorization</span>)             │                        │               │\n",
       "├─────────────────────────────────┼────────────────────────┼───────────────┤\n",
       "│ embedding (<span style=\"color: #0087ff; text-decoration-color: #0087ff\">Embedding</span>)           │ (<span style=\"color: #00d7ff; text-decoration-color: #00d7ff\">None</span>, <span style=\"color: #00af00; text-decoration-color: #00af00\">12</span>, <span style=\"color: #00af00; text-decoration-color: #00af00\">32</span>)         │       <span style=\"color: #00af00; text-decoration-color: #00af00\">320,000</span> │\n",
       "├─────────────────────────────────┼────────────────────────┼───────────────┤\n",
       "│ bidirectional_lstm_1            │ (<span style=\"color: #00d7ff; text-decoration-color: #00d7ff\">None</span>, <span style=\"color: #00af00; text-decoration-color: #00af00\">12</span>, <span style=\"color: #00af00; text-decoration-color: #00af00\">128</span>)        │        <span style=\"color: #00af00; text-decoration-color: #00af00\">49,664</span> │\n",
       "│ (<span style=\"color: #0087ff; text-decoration-color: #0087ff\">Bidirectional</span>)                 │                        │               │\n",
       "├─────────────────────────────────┼────────────────────────┼───────────────┤\n",
       "│ bidirectional_lstm_2            │ (<span style=\"color: #00d7ff; text-decoration-color: #00d7ff\">None</span>, <span style=\"color: #00af00; text-decoration-color: #00af00\">12</span>, <span style=\"color: #00af00; text-decoration-color: #00af00\">64</span>)         │        <span style=\"color: #00af00; text-decoration-color: #00af00\">41,216</span> │\n",
       "│ (<span style=\"color: #0087ff; text-decoration-color: #0087ff\">Bidirectional</span>)                 │                        │               │\n",
       "├─────────────────────────────────┼────────────────────────┼───────────────┤\n",
       "│ bidirectional_lstm_3            │ (<span style=\"color: #00d7ff; text-decoration-color: #00d7ff\">None</span>, <span style=\"color: #00af00; text-decoration-color: #00af00\">16</span>)             │         <span style=\"color: #00af00; text-decoration-color: #00af00\">4,672</span> │\n",
       "│ (<span style=\"color: #0087ff; text-decoration-color: #0087ff\">Bidirectional</span>)                 │                        │               │\n",
       "├─────────────────────────────────┼────────────────────────┼───────────────┤\n",
       "│ hidden_relu (<span style=\"color: #0087ff; text-decoration-color: #0087ff\">Dense</span>)             │ (<span style=\"color: #00d7ff; text-decoration-color: #00d7ff\">None</span>, <span style=\"color: #00af00; text-decoration-color: #00af00\">8</span>)              │           <span style=\"color: #00af00; text-decoration-color: #00af00\">136</span> │\n",
       "├─────────────────────────────────┼────────────────────────┼───────────────┤\n",
       "│ dropout (<span style=\"color: #0087ff; text-decoration-color: #0087ff\">Dropout</span>)               │ (<span style=\"color: #00d7ff; text-decoration-color: #00d7ff\">None</span>, <span style=\"color: #00af00; text-decoration-color: #00af00\">8</span>)              │             <span style=\"color: #00af00; text-decoration-color: #00af00\">0</span> │\n",
       "├─────────────────────────────────┼────────────────────────┼───────────────┤\n",
       "│ output_sigmoid (<span style=\"color: #0087ff; text-decoration-color: #0087ff\">Dense</span>)          │ (<span style=\"color: #00d7ff; text-decoration-color: #00d7ff\">None</span>, <span style=\"color: #00af00; text-decoration-color: #00af00\">1</span>)              │             <span style=\"color: #00af00; text-decoration-color: #00af00\">9</span> │\n",
       "└─────────────────────────────────┴────────────────────────┴───────────────┘\n",
       "</pre>\n"
      ],
      "text/plain": [
       "┏━━━━━━━━━━━━━━━━━━━━━━━━━━━━━━━━━┳━━━━━━━━━━━━━━━━━━━━━━━━┳━━━━━━━━━━━━━━━┓\n",
       "┃\u001b[1m \u001b[0m\u001b[1mLayer (type)                   \u001b[0m\u001b[1m \u001b[0m┃\u001b[1m \u001b[0m\u001b[1mOutput Shape          \u001b[0m\u001b[1m \u001b[0m┃\u001b[1m \u001b[0m\u001b[1m      Param #\u001b[0m\u001b[1m \u001b[0m┃\n",
       "┡━━━━━━━━━━━━━━━━━━━━━━━━━━━━━━━━━╇━━━━━━━━━━━━━━━━━━━━━━━━╇━━━━━━━━━━━━━━━┩\n",
       "│ text_vectorization              │ (\u001b[38;5;45mNone\u001b[0m, \u001b[38;5;34m12\u001b[0m)             │             \u001b[38;5;34m0\u001b[0m │\n",
       "│ (\u001b[38;5;33mTextVectorization\u001b[0m)             │                        │               │\n",
       "├─────────────────────────────────┼────────────────────────┼───────────────┤\n",
       "│ embedding (\u001b[38;5;33mEmbedding\u001b[0m)           │ (\u001b[38;5;45mNone\u001b[0m, \u001b[38;5;34m12\u001b[0m, \u001b[38;5;34m32\u001b[0m)         │       \u001b[38;5;34m320,000\u001b[0m │\n",
       "├─────────────────────────────────┼────────────────────────┼───────────────┤\n",
       "│ bidirectional_lstm_1            │ (\u001b[38;5;45mNone\u001b[0m, \u001b[38;5;34m12\u001b[0m, \u001b[38;5;34m128\u001b[0m)        │        \u001b[38;5;34m49,664\u001b[0m │\n",
       "│ (\u001b[38;5;33mBidirectional\u001b[0m)                 │                        │               │\n",
       "├─────────────────────────────────┼────────────────────────┼───────────────┤\n",
       "│ bidirectional_lstm_2            │ (\u001b[38;5;45mNone\u001b[0m, \u001b[38;5;34m12\u001b[0m, \u001b[38;5;34m64\u001b[0m)         │        \u001b[38;5;34m41,216\u001b[0m │\n",
       "│ (\u001b[38;5;33mBidirectional\u001b[0m)                 │                        │               │\n",
       "├─────────────────────────────────┼────────────────────────┼───────────────┤\n",
       "│ bidirectional_lstm_3            │ (\u001b[38;5;45mNone\u001b[0m, \u001b[38;5;34m16\u001b[0m)             │         \u001b[38;5;34m4,672\u001b[0m │\n",
       "│ (\u001b[38;5;33mBidirectional\u001b[0m)                 │                        │               │\n",
       "├─────────────────────────────────┼────────────────────────┼───────────────┤\n",
       "│ hidden_relu (\u001b[38;5;33mDense\u001b[0m)             │ (\u001b[38;5;45mNone\u001b[0m, \u001b[38;5;34m8\u001b[0m)              │           \u001b[38;5;34m136\u001b[0m │\n",
       "├─────────────────────────────────┼────────────────────────┼───────────────┤\n",
       "│ dropout (\u001b[38;5;33mDropout\u001b[0m)               │ (\u001b[38;5;45mNone\u001b[0m, \u001b[38;5;34m8\u001b[0m)              │             \u001b[38;5;34m0\u001b[0m │\n",
       "├─────────────────────────────────┼────────────────────────┼───────────────┤\n",
       "│ output_sigmoid (\u001b[38;5;33mDense\u001b[0m)          │ (\u001b[38;5;45mNone\u001b[0m, \u001b[38;5;34m1\u001b[0m)              │             \u001b[38;5;34m9\u001b[0m │\n",
       "└─────────────────────────────────┴────────────────────────┴───────────────┘\n"
      ]
     },
     "metadata": {},
     "output_type": "display_data"
    },
    {
     "data": {
      "text/html": [
       "<pre style=\"white-space:pre;overflow-x:auto;line-height:normal;font-family:Menlo,'DejaVu Sans Mono',consolas,'Courier New',monospace\"><span style=\"font-weight: bold\"> Total params: </span><span style=\"color: #00af00; text-decoration-color: #00af00\">415,697</span> (1.59 MB)\n",
       "</pre>\n"
      ],
      "text/plain": [
       "\u001b[1m Total params: \u001b[0m\u001b[38;5;34m415,697\u001b[0m (1.59 MB)\n"
      ]
     },
     "metadata": {},
     "output_type": "display_data"
    },
    {
     "data": {
      "text/html": [
       "<pre style=\"white-space:pre;overflow-x:auto;line-height:normal;font-family:Menlo,'DejaVu Sans Mono',consolas,'Courier New',monospace\"><span style=\"font-weight: bold\"> Trainable params: </span><span style=\"color: #00af00; text-decoration-color: #00af00\">415,697</span> (1.59 MB)\n",
       "</pre>\n"
      ],
      "text/plain": [
       "\u001b[1m Trainable params: \u001b[0m\u001b[38;5;34m415,697\u001b[0m (1.59 MB)\n"
      ]
     },
     "metadata": {},
     "output_type": "display_data"
    },
    {
     "data": {
      "text/html": [
       "<pre style=\"white-space:pre;overflow-x:auto;line-height:normal;font-family:Menlo,'DejaVu Sans Mono',consolas,'Courier New',monospace\"><span style=\"font-weight: bold\"> Non-trainable params: </span><span style=\"color: #00af00; text-decoration-color: #00af00\">0</span> (0.00 B)\n",
       "</pre>\n"
      ],
      "text/plain": [
       "\u001b[1m Non-trainable params: \u001b[0m\u001b[38;5;34m0\u001b[0m (0.00 B)\n"
      ]
     },
     "metadata": {},
     "output_type": "display_data"
    }
   ],
   "source": [
    "vocabulary_size = 10_000\n",
    "maximum_sequence_length = 12\n",
    "standardization_method = \"lower\"\n",
    "dimensions_embedding = 32\n",
    "units_lstm_1 = 64\n",
    "units_lstm_2 = 32\n",
    "units_lstm_3 = 8\n",
    "units_dense = 8\n",
    "\n",
    "model_lstm = utilities.build_model_lstm(\n",
    "    x_training=x_training,\n",
    "    vocabulary_size=vocabulary_size,\n",
    "    maximum_sequence_length=maximum_sequence_length,\n",
    "    standardization_method=standardization_method,\n",
    "    dimensions_embedding=dimensions_embedding,\n",
    "    units_lstm_1=units_lstm_1,\n",
    "    units_lstm_2=units_lstm_2,\n",
    "    units_lstm_3=units_lstm_3,\n",
    "    units_dense=units_dense,\n",
    ")\n",
    "\n",
    "model_lstm.summary()"
   ]
  },
  {
   "cell_type": "code",
   "execution_count": 4,
   "metadata": {},
   "outputs": [
    {
     "name": "stdout",
     "output_type": "stream",
     "text": [
      "Epoch 1/5\n",
      "\u001b[1m82/82\u001b[0m \u001b[32m━━━━━━━━━━━━━━━━━━━━\u001b[0m\u001b[37m\u001b[0m \u001b[1m11s\u001b[0m 53ms/step - binary_accuracy: 0.7221 - loss: 0.5856 - val_binary_accuracy: 0.8486 - val_loss: 0.3479\n",
      "Epoch 2/5\n",
      "\u001b[1m82/82\u001b[0m \u001b[32m━━━━━━━━━━━━━━━━━━━━\u001b[0m\u001b[37m\u001b[0m \u001b[1m3s\u001b[0m 37ms/step - binary_accuracy: 0.8732 - loss: 0.3024 - val_binary_accuracy: 0.8793 - val_loss: 0.2839\n",
      "Epoch 3/5\n",
      "\u001b[1m82/82\u001b[0m \u001b[32m━━━━━━━━━━━━━━━━━━━━\u001b[0m\u001b[37m\u001b[0m \u001b[1m3s\u001b[0m 36ms/step - binary_accuracy: 0.9091 - loss: 0.2246 - val_binary_accuracy: 0.8778 - val_loss: 0.2834\n",
      "Epoch 4/5\n",
      "\u001b[1m82/82\u001b[0m \u001b[32m━━━━━━━━━━━━━━━━━━━━\u001b[0m\u001b[37m\u001b[0m \u001b[1m3s\u001b[0m 35ms/step - binary_accuracy: 0.9251 - loss: 0.1910 - val_binary_accuracy: 0.8735 - val_loss: 0.2992\n",
      "Epoch 5/5\n",
      "\u001b[1m82/82\u001b[0m \u001b[32m━━━━━━━━━━━━━━━━━━━━\u001b[0m\u001b[37m\u001b[0m \u001b[1m3s\u001b[0m 36ms/step - binary_accuracy: 0.9308 - loss: 0.1773 - val_binary_accuracy: 0.8727 - val_loss: 0.3132\n"
     ]
    }
   ],
   "source": [
    "number_of_epochs = 5\n",
    "batch_size = 512\n",
    "\n",
    "optimizer = tf.keras.optimizers.Adam()\n",
    "loss = tf.keras.losses.BinaryCrossentropy()\n",
    "metrics = [tf.keras.metrics.BinaryAccuracy()]\n",
    "\n",
    "model_lstm.compile(optimizer=optimizer, loss=loss, metrics=metrics)\n",
    "\n",
    "history_lstm = model_lstm.fit(\n",
    "    x_training,\n",
    "    y_training,\n",
    "    epochs=number_of_epochs,\n",
    "    batch_size=batch_size,\n",
    "    validation_data=(x_validation, y_validation),\n",
    ")"
   ]
  },
  {
   "cell_type": "code",
   "execution_count": 5,
   "metadata": {},
   "outputs": [
    {
     "data": {
      "image/png": "[encoded data removed]",
      "text/plain": [
       "<Figure size 1000x600 with 1 Axes>"
      ]
     },
     "metadata": {},
     "output_type": "display_data"
    }
   ],
   "source": [
    "y_limits = (0.75, 1)\n",
    "\n",
    "figure, axes = utilities.plot_accuracy(history=history_lstm, y_limits=y_limits)"
   ]
  },
  {
   "cell_type": "code",
   "execution_count": 6,
   "metadata": {},
   "outputs": [
    {
     "data": {
      "image/png": "[encoded data removed]",
      "text/plain": [
       "<Figure size 1000x600 with 1 Axes>"
      ]
     },
     "metadata": {},
     "output_type": "display_data"
    }
   ],
   "source": [
    "figure, axes = utilities.plot_loss(history=history_lstm)"
   ]
  },
  {
   "cell_type": "markdown",
   "metadata": {},
   "source": [
    "### Model With Pre-Trained Embeddings From a Neural-Net Language Model\n",
    "\n",
    "The second model is a structurally similar to the baseline model, but instead of training embeddings from scratch, pre-trained embeddings from an NNLM are used."
   ]
  },
  {
   "cell_type": "code",
   "execution_count": 7,
   "metadata": {},
   "outputs": [
    {
     "name": "stdout",
     "output_type": "stream",
     "text": [
      "WARNING:tensorflow:From g:\\Backup\\Documents\\OpenCampus\\Machine Learning With TensorFlow\\Project\\plain-language-classification-main\\.venv\\Lib\\site-packages\\tensorflow_hub\\resolver.py:120: The name tf.gfile.MakeDirs is deprecated. Please use tf.io.gfile.makedirs instead.\n",
      "\n"
     ]
    },
    {
     "name": "stderr",
     "output_type": "stream",
     "text": [
      "WARNING:tensorflow:From g:\\Backup\\Documents\\OpenCampus\\Machine Learning With TensorFlow\\Project\\plain-language-classification-main\\.venv\\Lib\\site-packages\\tensorflow_hub\\resolver.py:120: The name tf.gfile.MakeDirs is deprecated. Please use tf.io.gfile.makedirs instead.\n",
      "\n"
     ]
    },
    {
     "name": "stdout",
     "output_type": "stream",
     "text": [
      "WARNING:tensorflow:From g:\\Backup\\Documents\\OpenCampus\\Machine Learning With TensorFlow\\Project\\plain-language-classification-main\\.venv\\Lib\\site-packages\\tensorflow_hub\\module_v2.py:126: The name tf.saved_model.load_v2 is deprecated. Please use tf.compat.v2.saved_model.load instead.\n",
      "\n"
     ]
    },
    {
     "name": "stderr",
     "output_type": "stream",
     "text": [
      "WARNING:tensorflow:From g:\\Backup\\Documents\\OpenCampus\\Machine Learning With TensorFlow\\Project\\plain-language-classification-main\\.venv\\Lib\\site-packages\\tensorflow_hub\\module_v2.py:126: The name tf.saved_model.load_v2 is deprecated. Please use tf.compat.v2.saved_model.load instead.\n",
      "\n"
     ]
    },
    {
     "name": "stdout",
     "output_type": "stream",
     "text": [
      "WARNING:tensorflow:From g:\\Backup\\Documents\\OpenCampus\\Machine Learning With TensorFlow\\Project\\plain-language-classification-main\\.venv\\Lib\\site-packages\\tf_keras\\src\\backend.py:873: The name tf.get_default_graph is deprecated. Please use tf.compat.v1.get_default_graph instead.\n",
      "\n"
     ]
    },
    {
     "name": "stderr",
     "output_type": "stream",
     "text": [
      "WARNING:tensorflow:From g:\\Backup\\Documents\\OpenCampus\\Machine Learning With TensorFlow\\Project\\plain-language-classification-main\\.venv\\Lib\\site-packages\\tf_keras\\src\\backend.py:873: The name tf.get_default_graph is deprecated. Please use tf.compat.v1.get_default_graph instead.\n",
      "\n"
     ]
    },
    {
     "name": "stdout",
     "output_type": "stream",
     "text": [
      "Model: \"sequential\"\n",
      "_________________________________________________________________\n",
      " Layer (type)                Output Shape              Param #   \n",
      "=================================================================\n",
      " keras_layer (KerasLayer)    (None, 128)               125307520 \n",
      "                                                                 \n",
      " hidden_relu (Dense)         (None, 16)                2064      \n",
      "                                                                 \n",
      " output_sigmoid (Dense)      (None, 1)                 17        \n",
      "                                                                 \n",
      "=================================================================\n",
      "Total params: 125309601 (478.02 MB)\n",
      "Trainable params: 125309601 (478.02 MB)\n",
      "Non-trainable params: 0 (0.00 Byte)\n",
      "_________________________________________________________________\n"
     ]
    }
   ],
   "source": [
    "embedding_dimensions = 128  # can be 50 or 128\n",
    "units_dense = 16\n",
    "is_trainable = True\n",
    "\n",
    "model_nnlm = utilities.build_model_nnlm(\n",
    "    embedding_dimensions=embedding_dimensions,\n",
    "    units_dense=units_dense,\n",
    ")\n",
    "\n",
    "model_nnlm.summary()"
   ]
  },
  {
   "cell_type": "code",
   "execution_count": null,
   "metadata": {},
   "outputs": [],
   "source": [
    "number_of_epochs = 50\n",
    "batch_size = 512\n",
    "\n",
    "initial_learning_rate = 5e-5\n",
    "\n",
    "# tf_keras is used instead of tf.keras, because tensorflow_hub (Version 0.16.1) is incompatible with Keras 3\n",
    "optimizer = tf_keras.optimizers.Adam(learning_rate=initial_learning_rate)\n",
    "loss = tf_keras.losses.BinaryCrossentropy()\n",
    "metrics = [tf_keras.metrics.BinaryAccuracy()]\n",
    "\n",
    "model_nnlm.compile(\n",
    "    optimizer=optimizer,\n",
    "    loss=loss,\n",
    "    metrics=metrics,\n",
    ")\n",
    "\n",
    "history_nnlm = model_nnlm.fit(\n",
    "    x_training,\n",
    "    y_training,\n",
    "    epochs=number_of_epochs,\n",
    "    batch_size=batch_size,\n",
    "    validation_data=(x_validation, y_validation),\n",
    ")"
   ]
  },
  {
   "cell_type": "code",
   "execution_count": null,
   "metadata": {},
   "outputs": [],
   "source": [
    "y_limits = (0.5, 1)\n",
    "\n",
    "figure, axes = utilities.plot_accuracy(history=history_nnlm, y_limits=y_limits)"
   ]
  },
  {
   "cell_type": "code",
   "execution_count": null,
   "metadata": {},
   "outputs": [],
   "source": [
    "figure, axes = utilities.plot_loss(history=history_nnlm)"
   ]
  },
  {
   "cell_type": "markdown",
   "metadata": {},
   "source": [
    "### Fine-Tuned German BERT\n",
    "\n",
    "The third and final model is a fine-tuned version of the Transformer-based German BERT model."
   ]
  },
  {
   "cell_type": "code",
   "execution_count": 9,
   "metadata": {},
   "outputs": [],
   "source": [
    "has_duplicate_removal = True\n",
    "has_stop_word_removal = False\n",
    "\n",
    "x_training, x_validation, x_test, y_training, y_validation, y_test = (\n",
    "    utilities.prepare_and_split_data(\n",
    "        has_duplicate_removal=has_duplicate_removal,\n",
    "        has_stop_word_removal=has_stop_word_removal,\n",
    "        validation_size=validation_size,\n",
    "        test_size=test_size,\n",
    "    )\n",
    ")"
   ]
  },
  {
   "cell_type": "code",
   "execution_count": 10,
   "metadata": {},
   "outputs": [
    {
     "name": "stderr",
     "output_type": "stream",
     "text": [
      "All PyTorch model weights were used when initializing TFBertForSequenceClassification.\n",
      "\n",
      "Some weights or buffers of the TF 2.0 model TFBertForSequenceClassification were not initialized from the PyTorch model and are newly initialized: ['classifier.weight', 'classifier.bias']\n",
      "You should probably TRAIN this model on a down-stream task to be able to use it for predictions and inference.\n"
     ]
    },
    {
     "name": "stdout",
     "output_type": "stream",
     "text": [
      "Model: \"tf_bert_for_sequence_classification\"\n",
      "_________________________________________________________________\n",
      " Layer (type)                Output Shape              Param #   \n",
      "=================================================================\n",
      " bert (TFBertMainLayer)      multiple                  109927680 \n",
      "                                                                 \n",
      " dropout_37 (Dropout)        multiple                  0 (unused)\n",
      "                                                                 \n",
      " classifier (Dense)          multiple                  769       \n",
      "                                                                 \n",
      "=================================================================\n",
      "Total params: 109928449 (419.34 MB)\n",
      "Trainable params: 109928449 (419.34 MB)\n",
      "Non-trainable params: 0 (0.00 Byte)\n",
      "_________________________________________________________________\n"
     ]
    }
   ],
   "source": [
    "maximum_sequence_length = 30\n",
    "\n",
    "data_training, data_validation, model_gbert = utilities.build_model_gbert(\n",
    "    x_training=x_training.tolist(),\n",
    "    x_validation=x_validation.tolist(),\n",
    "    y_training=y_training.tolist(),\n",
    "    y_validation=y_validation.tolist(),\n",
    "    maximum_sequence_length=maximum_sequence_length,\n",
    ")\n",
    "\n",
    "model_gbert.summary()"
   ]
  },
  {
   "cell_type": "code",
   "execution_count": null,
   "metadata": {},
   "outputs": [],
   "source": [
    "epochs = 5\n",
    "batch_size = 64\n",
    "initial_learning_rate = 5e-5\n",
    "\n",
    "# tf_keras is used instead of tf.keras, because transformers (Version 4.43.3) is incompatible with Keras 3\n",
    "optimizer = tf_keras.optimizers.Adam(learning_rate=initial_learning_rate)\n",
    "loss = tf_keras.losses.BinaryCrossentropy(from_logits=True)\n",
    "metrics = [tf_keras.metrics.BinaryAccuracy()]\n",
    "\n",
    "model_gbert.compile(optimizer=optimizer, loss=loss, metrics=metrics)\n",
    "\n",
    "history_gbert = model_gbert.fit(\n",
    "    data_training.shuffle(1000).batch(batch_size),\n",
    "    validation_data=data_validation.batch(batch_size),\n",
    "    epochs=epochs,\n",
    "    batch_size=batch_size,\n",
    ")"
   ]
  },
  {
   "cell_type": "code",
   "execution_count": null,
   "metadata": {},
   "outputs": [],
   "source": [
    "y_limits = (0.9, 1)\n",
    "\n",
    "figure, axes = utilities.plot_accuracy(history=history_gbert, y_limits=y_limits)"
   ]
  },
  {
   "cell_type": "code",
   "execution_count": null,
   "metadata": {},
   "outputs": [],
   "source": [
    "figure, axes = utilities.plot_loss(history=history_gbert)"
   ]
  },
  {
   "cell_type": "markdown",
   "metadata": {},
   "source": [
    "## Evaluation Metrics\n",
    "\n",
    "As with the baseline model, accuracy was chosen as the evaluation metric, since the two classes are well-balanced."
   ]
  },
  {
   "cell_type": "code",
   "execution_count": null,
   "metadata": {},
   "outputs": [],
   "source": [
    "accuracy_lstm = utilities.evaluate_model(\n",
    "    model=model_lstm,\n",
    "    x_test=x_test,\n",
    "    y_test=y_test,\n",
    ")\n",
    "\n",
    "\n",
    "accuracy_nnlm = utilities.evaluate_model(\n",
    "    model=model_nnlm,\n",
    "    x_test=x_test,\n",
    "    y_test=y_test,\n",
    ")\n",
    "\n",
    "\n",
    "accuracy_gbert = utilities.evaluate_model(\n",
    "    model=model_gbert,\n",
    "    x_test=x_test,\n",
    "    y_test=y_test,\n",
    ")"
   ]
  },
  {
   "cell_type": "markdown",
   "metadata": {},
   "source": [
    "## Comparative Analysis\n",
    "\n",
    "Performance was already quite high for the baseline model. This shows that a fairly simple model can already solve the task at hand pretty well, maybe because distinguishing between plain and regular language is not a particularly difficult task. The LSTM model performs similarly to the baseline model, suggesting that preserving word order does not improve model performance. Surprisingly, the model with pre-trained NNLM-embeddings performed even worse than the simple baseline model. The reasons for this bad performance are not quite clear. FInally, the fine-tuned version of German BERT outperformed all other models by a substantial margin. This high performance shows that the more advanced Transormer-based approach yields a superior text-classification accuracy, which is in line with existing research on the topic."
   ]
  },
  {
   "cell_type": "code",
   "execution_count": null,
   "metadata": {},
   "outputs": [],
   "source": [
    "accuracy_baseline = 0.876\n",
    "\n",
    "print(f\"Accuracy Baseline: {accuracy_baseline * 100:.1f}%\")\n",
    "print(f\"Accuracy LSTM:  {accuracy_lstm * 100:.1f}%\")\n",
    "print(f\"Accuracy NNLM: {accuracy_nnlm * 100:.1f}%\")\n",
    "print(f\"Accuracy German BERT: {accuracy_gbert * 100:.1f}%\")"
   ]
  }
 ],
 "metadata": {
  "kernelspec": {
   "display_name": ".venv",
   "language": "python",
   "name": "python3"
  },
  "language_info": {
   "codemirror_mode": {
    "name": "ipython",
    "version": 3
   },
   "file_extension": ".py",
   "mimetype": "text/x-python",
   "name": "python",
   "nbconvert_exporter": "python",
   "pygments_lexer": "ipython3",
   "version": "3.12.3"
  }
 },
 "nbformat": 4,
 "nbformat_minor": 2
}
